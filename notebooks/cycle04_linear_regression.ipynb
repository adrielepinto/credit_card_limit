{
 "cells": [
  {
   "cell_type": "markdown",
   "id": "aa89c631",
   "metadata": {},
   "source": [
    "# Cycle 02 - Supervised Learning - Classification"
   ]
  },
  {
   "cell_type": "markdown",
   "id": "4a545a4a",
   "metadata": {},
   "source": [
    "## 1.0 Imports"
   ]
  },
  {
   "cell_type": "code",
   "execution_count": 1,
   "id": "23323d15",
   "metadata": {
    "ExecuteTime": {
     "end_time": "2023-02-20T14:45:52.119562Z",
     "start_time": "2023-02-20T14:45:50.278755Z"
    }
   },
   "outputs": [],
   "source": [
    "import pandas as pd\n",
    "import numpy as np\n",
    "from sklearn.linear_model import LinearRegression"
   ]
  },
  {
   "cell_type": "markdown",
   "id": "0c113eb8",
   "metadata": {
    "ExecuteTime": {
     "end_time": "2023-01-22T13:56:14.975493Z",
     "start_time": "2023-01-22T13:56:14.972575Z"
    }
   },
   "source": [
    "## 1.1 Load Datase"
   ]
  },
  {
   "cell_type": "code",
   "execution_count": 8,
   "id": "8013fd5a",
   "metadata": {
    "ExecuteTime": {
     "end_time": "2023-02-20T14:50:05.308184Z",
     "start_time": "2023-02-20T14:50:05.279111Z"
    }
   },
   "outputs": [],
   "source": [
    "df = pd.read_csv( '/Users/adriele/Documents/repos/fund_ml/dataset/train.csv')"
   ]
  },
  {
   "cell_type": "markdown",
   "id": "c692887e",
   "metadata": {
    "ExecuteTime": {
     "end_time": "2023-01-22T13:59:35.190234Z",
     "start_time": "2023-01-22T13:59:35.160825Z"
    }
   },
   "source": [
    "## 2.0  Features Selection\n",
    "                  "
   ]
  },
  {
   "cell_type": "code",
   "execution_count": 9,
   "id": "2be1ae81",
   "metadata": {
    "ExecuteTime": {
     "end_time": "2023-02-20T14:50:06.228780Z",
     "start_time": "2023-02-20T14:50:06.225365Z"
    }
   },
   "outputs": [],
   "source": [
    "features = ['idade', 'saldo_atual', 'divida_atual', 'renda_anual', 'valor_em_investimentos',\n",
    "                              'taxa_utilizacao_credito', 'num_emprestimos', 'num_contas_bancarias', 'num_cartoes_credito',\n",
    "                              'dias_atraso_dt_venc', 'num_pgtos_atrasados', 'num_consultas_credito', 'taxa_juros']\n",
    "\n",
    "label = ['saldo_atual']"
   ]
  },
  {
   "cell_type": "markdown",
   "id": "bd208acf",
   "metadata": {},
   "source": [
    "## 3.0 Data Preparation for train"
   ]
  },
  {
   "cell_type": "code",
   "execution_count": 10,
   "id": "d429fef0",
   "metadata": {
    "ExecuteTime": {
     "end_time": "2023-02-20T14:50:06.734619Z",
     "start_time": "2023-02-20T14:50:06.708013Z"
    }
   },
   "outputs": [
    {
     "data": {
      "text/html": [
       "<div>\n",
       "<style scoped>\n",
       "    .dataframe tbody tr th:only-of-type {\n",
       "        vertical-align: middle;\n",
       "    }\n",
       "\n",
       "    .dataframe tbody tr th {\n",
       "        vertical-align: top;\n",
       "    }\n",
       "\n",
       "    .dataframe thead th {\n",
       "        text-align: right;\n",
       "    }\n",
       "</style>\n",
       "<table border=\"1\" class=\"dataframe\">\n",
       "  <thead>\n",
       "    <tr style=\"text-align: right;\">\n",
       "      <th></th>\n",
       "      <th>id_cliente</th>\n",
       "      <th>saldo_atual</th>\n",
       "      <th>predicted</th>\n",
       "    </tr>\n",
       "  </thead>\n",
       "  <tbody>\n",
       "    <tr>\n",
       "      <th>0</th>\n",
       "      <td>1767</td>\n",
       "      <td>278.172008</td>\n",
       "      <td>278.172008</td>\n",
       "    </tr>\n",
       "    <tr>\n",
       "      <th>1</th>\n",
       "      <td>11920</td>\n",
       "      <td>268.874152</td>\n",
       "      <td>268.874152</td>\n",
       "    </tr>\n",
       "    <tr>\n",
       "      <th>2</th>\n",
       "      <td>8910</td>\n",
       "      <td>446.643127</td>\n",
       "      <td>446.643127</td>\n",
       "    </tr>\n",
       "    <tr>\n",
       "      <th>3</th>\n",
       "      <td>4964</td>\n",
       "      <td>321.141267</td>\n",
       "      <td>321.141267</td>\n",
       "    </tr>\n",
       "    <tr>\n",
       "      <th>4</th>\n",
       "      <td>10100</td>\n",
       "      <td>428.716114</td>\n",
       "      <td>428.716114</td>\n",
       "    </tr>\n",
       "  </tbody>\n",
       "</table>\n",
       "</div>"
      ],
      "text/plain": [
       "   id_cliente  saldo_atual   predicted\n",
       "0        1767   278.172008  278.172008\n",
       "1       11920   268.874152  268.874152\n",
       "2        8910   446.643127  446.643127\n",
       "3        4964   321.141267  321.141267\n",
       "4       10100   428.716114  428.716114"
      ]
     },
     "execution_count": 10,
     "metadata": {},
     "output_type": "execute_result"
    }
   ],
   "source": [
    "# Variável alvo\n",
    "label = ['saldo_atual']\n",
    "\n",
    "# Dados de treinamento e teste\n",
    "x_train = df.loc[:, features]\n",
    "y_train = df.loc[:, label]\n",
    "\n",
    "\n",
    "# Treinamento do algoritmo\n",
    "lr_model = LinearRegression()\n",
    "lr_model.fit( x_train, y_train )\n",
    "\n",
    "# Previsão do algoritmo\n",
    "y_pred = lr_model.predict( x_train )\n",
    "\n",
    "\n",
    "# Resultado final\n",
    "df1 = df.loc[:, ['id_cliente', 'saldo_atual']]\n",
    "df1['predicted'] = y_pred\n",
    "\n",
    "\n",
    "df1.head()"
   ]
  },
  {
   "cell_type": "markdown",
   "id": "a101d8e1",
   "metadata": {
    "ExecuteTime": {
     "end_time": "2023-01-27T14:36:17.516188Z",
     "start_time": "2023-01-27T14:36:17.511423Z"
    }
   },
   "source": [
    "# 4.0  Performance"
   ]
  },
  {
   "cell_type": "markdown",
   "id": "202d9222",
   "metadata": {},
   "source": [
    "## 4.1 Matriz de confusao"
   ]
  },
  {
   "cell_type": "markdown",
   "id": "449e64e5",
   "metadata": {
    "ExecuteTime": {
     "end_time": "2023-01-27T14:38:09.984092Z",
     "start_time": "2023-01-27T14:38:09.981236Z"
    }
   },
   "source": [
    "## 4.2 Acuracia"
   ]
  },
  {
   "cell_type": "markdown",
   "id": "6e7620c6",
   "metadata": {},
   "source": [
    "## 4.3 Precisao"
   ]
  },
  {
   "cell_type": "code",
   "execution_count": null,
   "id": "b5fe9f11",
   "metadata": {},
   "outputs": [],
   "source": []
  }
 ],
 "metadata": {
  "kernelspec": {
   "display_name": "Python 3 (ipykernel)",
   "language": "python",
   "name": "python3"
  },
  "language_info": {
   "codemirror_mode": {
    "name": "ipython",
    "version": 3
   },
   "file_extension": ".py",
   "mimetype": "text/x-python",
   "name": "python",
   "nbconvert_exporter": "python",
   "pygments_lexer": "ipython3",
   "version": "3.9.16"
  }
 },
 "nbformat": 4,
 "nbformat_minor": 5
}
