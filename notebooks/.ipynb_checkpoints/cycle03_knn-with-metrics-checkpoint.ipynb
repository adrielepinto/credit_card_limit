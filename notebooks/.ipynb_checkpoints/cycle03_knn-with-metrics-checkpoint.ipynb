{
 "cells": [
  {
   "cell_type": "markdown",
   "id": "aa89c631",
   "metadata": {},
   "source": [
    "# Cycle 02 - Supervised Learning - Classification"
   ]
  },
  {
   "cell_type": "markdown",
   "id": "4a545a4a",
   "metadata": {},
   "source": [
    "## 1.0 Imports"
   ]
  },
  {
   "cell_type": "code",
   "execution_count": 147,
   "id": "23323d15",
   "metadata": {
    "ExecuteTime": {
     "end_time": "2023-01-27T16:10:28.624953Z",
     "start_time": "2023-01-27T16:10:28.615300Z"
    }
   },
   "outputs": [],
   "source": [
    "import pandas as pd\n",
    "from sklearn.neighbors import KNeighborsClassifier\n",
    "\n",
    "from sklearn import metrics as mt"
   ]
  },
  {
   "cell_type": "markdown",
   "id": "0c113eb8",
   "metadata": {
    "ExecuteTime": {
     "end_time": "2023-01-22T13:56:14.975493Z",
     "start_time": "2023-01-22T13:56:14.972575Z"
    }
   },
   "source": [
    "## 1.1 Load Datase"
   ]
  },
  {
   "cell_type": "code",
   "execution_count": 172,
   "id": "8013fd5a",
   "metadata": {
    "ExecuteTime": {
     "end_time": "2023-01-27T16:11:24.771308Z",
     "start_time": "2023-01-27T16:11:24.748239Z"
    }
   },
   "outputs": [],
   "source": [
    "df = pd.read_csv( '/Users/adriele/Documents/repos/fund_ml/dataset/train.csv')"
   ]
  },
  {
   "cell_type": "code",
   "execution_count": 173,
   "id": "fb9272a1",
   "metadata": {
    "ExecuteTime": {
     "end_time": "2023-01-27T16:11:25.275964Z",
     "start_time": "2023-01-27T16:11:25.269435Z"
    }
   },
   "outputs": [
    {
     "data": {
      "text/plain": [
       "Negar       7995\n",
       "Conceder    1505\n",
       "Name: limite_adicional, dtype: int64"
      ]
     },
     "execution_count": 173,
     "metadata": {},
     "output_type": "execute_result"
    }
   ],
   "source": [
    "df.loc[:, 'limite_adicional'].value_counts()"
   ]
  },
  {
   "cell_type": "code",
   "execution_count": 174,
   "id": "4611f856",
   "metadata": {
    "ExecuteTime": {
     "end_time": "2023-01-27T16:11:25.468250Z",
     "start_time": "2023-01-27T16:11:25.461721Z"
    }
   },
   "outputs": [
    {
     "data": {
      "text/plain": [
       "Negar       0.841579\n",
       "Conceder    0.158421\n",
       "Name: limite_adicional, dtype: float64"
      ]
     },
     "execution_count": 174,
     "metadata": {},
     "output_type": "execute_result"
    }
   ],
   "source": [
    "df.loc[:, 'limite_adicional'].value_counts( normalize=True )"
   ]
  },
  {
   "cell_type": "markdown",
   "id": "c692887e",
   "metadata": {
    "ExecuteTime": {
     "end_time": "2023-01-22T13:59:35.190234Z",
     "start_time": "2023-01-22T13:59:35.160825Z"
    }
   },
   "source": [
    "## 2.0  Features Selection\n",
    "                  "
   ]
  },
  {
   "cell_type": "code",
   "execution_count": 175,
   "id": "2be1ae81",
   "metadata": {
    "ExecuteTime": {
     "end_time": "2023-01-27T16:11:25.840845Z",
     "start_time": "2023-01-27T16:11:25.837555Z"
    }
   },
   "outputs": [],
   "source": [
    "features = ['idade', 'saldo_atual', 'divida_atual', 'renda_anual', 'valor_em_investimentos',\n",
    "                              'taxa_utilizacao_credito', 'num_emprestimos', 'num_contas_bancarias', 'num_cartoes_credito',\n",
    "                              'dias_atraso_dt_venc', 'num_pgtos_atrasados', 'num_consultas_credito', 'taxa_juros']\n",
    "\n",
    "label = ['limite_adicional']"
   ]
  },
  {
   "cell_type": "markdown",
   "id": "bd208acf",
   "metadata": {},
   "source": [
    "## 3.0 Data Preparation for train"
   ]
  },
  {
   "cell_type": "code",
   "execution_count": 187,
   "id": "d429fef0",
   "metadata": {
    "ExecuteTime": {
     "end_time": "2023-01-27T16:11:54.138962Z",
     "start_time": "2023-01-27T16:11:53.660348Z"
    }
   },
   "outputs": [
    {
     "data": {
      "text/html": [
       "<div>\n",
       "<style scoped>\n",
       "    .dataframe tbody tr th:only-of-type {\n",
       "        vertical-align: middle;\n",
       "    }\n",
       "\n",
       "    .dataframe tbody tr th {\n",
       "        vertical-align: top;\n",
       "    }\n",
       "\n",
       "    .dataframe thead th {\n",
       "        text-align: right;\n",
       "    }\n",
       "</style>\n",
       "<table border=\"1\" class=\"dataframe\">\n",
       "  <thead>\n",
       "    <tr style=\"text-align: right;\">\n",
       "      <th></th>\n",
       "      <th>id_cliente</th>\n",
       "      <th>idade</th>\n",
       "      <th>saldo_atual</th>\n",
       "      <th>divida_atual</th>\n",
       "      <th>renda_anual</th>\n",
       "      <th>valor_em_investimentos</th>\n",
       "      <th>taxa_utilizacao_credito</th>\n",
       "      <th>num_emprestimos</th>\n",
       "      <th>num_contas_bancarias</th>\n",
       "      <th>num_cartoes_credito</th>\n",
       "      <th>dias_atraso_dt_venc</th>\n",
       "      <th>num_pgtos_atrasados</th>\n",
       "      <th>num_consultas_credito</th>\n",
       "      <th>taxa_juros</th>\n",
       "      <th>investe_exterior</th>\n",
       "      <th>pessoa_polit_exp</th>\n",
       "      <th>limite_adicional</th>\n",
       "      <th>classificacao</th>\n",
       "    </tr>\n",
       "  </thead>\n",
       "  <tbody>\n",
       "    <tr>\n",
       "      <th>6272</th>\n",
       "      <td>8047</td>\n",
       "      <td>57</td>\n",
       "      <td>422.697187</td>\n",
       "      <td>1063.18</td>\n",
       "      <td>42593.693030</td>\n",
       "      <td>96.372156</td>\n",
       "      <td>40.725937</td>\n",
       "      <td>1</td>\n",
       "      <td>6</td>\n",
       "      <td>3</td>\n",
       "      <td>27</td>\n",
       "      <td>10</td>\n",
       "      <td>1</td>\n",
       "      <td>11</td>\n",
       "      <td>Não</td>\n",
       "      <td>Não</td>\n",
       "      <td>Negar</td>\n",
       "      <td>Negar</td>\n",
       "    </tr>\n",
       "    <tr>\n",
       "      <th>5475</th>\n",
       "      <td>596</td>\n",
       "      <td>49</td>\n",
       "      <td>368.731345</td>\n",
       "      <td>939.20</td>\n",
       "      <td>29024.931285</td>\n",
       "      <td>55.447013</td>\n",
       "      <td>36.614841</td>\n",
       "      <td>3</td>\n",
       "      <td>5</td>\n",
       "      <td>3</td>\n",
       "      <td>25</td>\n",
       "      <td>14</td>\n",
       "      <td>4</td>\n",
       "      <td>8</td>\n",
       "      <td>Sim</td>\n",
       "      <td>Não</td>\n",
       "      <td>Negar</td>\n",
       "      <td>Negar</td>\n",
       "    </tr>\n",
       "    <tr>\n",
       "      <th>557</th>\n",
       "      <td>1202</td>\n",
       "      <td>42</td>\n",
       "      <td>266.090911</td>\n",
       "      <td>1332.45</td>\n",
       "      <td>11202.535825</td>\n",
       "      <td>41.734346</td>\n",
       "      <td>38.448629</td>\n",
       "      <td>2</td>\n",
       "      <td>7</td>\n",
       "      <td>4</td>\n",
       "      <td>30</td>\n",
       "      <td>12</td>\n",
       "      <td>6</td>\n",
       "      <td>18</td>\n",
       "      <td>Não</td>\n",
       "      <td>Não</td>\n",
       "      <td>Negar</td>\n",
       "      <td>Negar</td>\n",
       "    </tr>\n",
       "    <tr>\n",
       "      <th>3411</th>\n",
       "      <td>6147</td>\n",
       "      <td>31</td>\n",
       "      <td>361.887885</td>\n",
       "      <td>1406.53</td>\n",
       "      <td>72577.575000</td>\n",
       "      <td>124.367443</td>\n",
       "      <td>40.122092</td>\n",
       "      <td>5</td>\n",
       "      <td>8</td>\n",
       "      <td>3</td>\n",
       "      <td>29</td>\n",
       "      <td>13</td>\n",
       "      <td>11</td>\n",
       "      <td>18</td>\n",
       "      <td>Não</td>\n",
       "      <td>Não</td>\n",
       "      <td>Negar</td>\n",
       "      <td>Negar</td>\n",
       "    </tr>\n",
       "    <tr>\n",
       "      <th>5305</th>\n",
       "      <td>6344</td>\n",
       "      <td>52</td>\n",
       "      <td>297.462809</td>\n",
       "      <td>1372.83</td>\n",
       "      <td>51221.145500</td>\n",
       "      <td>365.480357</td>\n",
       "      <td>40.277766</td>\n",
       "      <td>0</td>\n",
       "      <td>7</td>\n",
       "      <td>3</td>\n",
       "      <td>10</td>\n",
       "      <td>14</td>\n",
       "      <td>3</td>\n",
       "      <td>15</td>\n",
       "      <td>Não</td>\n",
       "      <td>Não</td>\n",
       "      <td>Negar</td>\n",
       "      <td>Negar</td>\n",
       "    </tr>\n",
       "    <tr>\n",
       "      <th>3875</th>\n",
       "      <td>10619</td>\n",
       "      <td>21</td>\n",
       "      <td>190.676829</td>\n",
       "      <td>2514.62</td>\n",
       "      <td>27461.601370</td>\n",
       "      <td>185.101395</td>\n",
       "      <td>25.764323</td>\n",
       "      <td>5</td>\n",
       "      <td>9</td>\n",
       "      <td>10</td>\n",
       "      <td>60</td>\n",
       "      <td>22</td>\n",
       "      <td>9</td>\n",
       "      <td>28</td>\n",
       "      <td>Não</td>\n",
       "      <td>Não</td>\n",
       "      <td>Negar</td>\n",
       "      <td>Negar</td>\n",
       "    </tr>\n",
       "    <tr>\n",
       "      <th>4778</th>\n",
       "      <td>6384</td>\n",
       "      <td>34</td>\n",
       "      <td>639.146630</td>\n",
       "      <td>675.51</td>\n",
       "      <td>66947.132000</td>\n",
       "      <td>70.576037</td>\n",
       "      <td>37.008729</td>\n",
       "      <td>0</td>\n",
       "      <td>5</td>\n",
       "      <td>3</td>\n",
       "      <td>13</td>\n",
       "      <td>18</td>\n",
       "      <td>4</td>\n",
       "      <td>5</td>\n",
       "      <td>Não</td>\n",
       "      <td>Não</td>\n",
       "      <td>Negar</td>\n",
       "      <td>Negar</td>\n",
       "    </tr>\n",
       "    <tr>\n",
       "      <th>8782</th>\n",
       "      <td>9046</td>\n",
       "      <td>25</td>\n",
       "      <td>496.292058</td>\n",
       "      <td>1369.02</td>\n",
       "      <td>90537.638880</td>\n",
       "      <td>348.918938</td>\n",
       "      <td>29.297803</td>\n",
       "      <td>2</td>\n",
       "      <td>1</td>\n",
       "      <td>4</td>\n",
       "      <td>9</td>\n",
       "      <td>2</td>\n",
       "      <td>1</td>\n",
       "      <td>10</td>\n",
       "      <td>Não</td>\n",
       "      <td>Não</td>\n",
       "      <td>Negar</td>\n",
       "      <td>Negar</td>\n",
       "    </tr>\n",
       "    <tr>\n",
       "      <th>3036</th>\n",
       "      <td>6928</td>\n",
       "      <td>35</td>\n",
       "      <td>389.594288</td>\n",
       "      <td>2482.73</td>\n",
       "      <td>42827.105300</td>\n",
       "      <td>68.008761</td>\n",
       "      <td>35.561240</td>\n",
       "      <td>5</td>\n",
       "      <td>10</td>\n",
       "      <td>8</td>\n",
       "      <td>25</td>\n",
       "      <td>19</td>\n",
       "      <td>7</td>\n",
       "      <td>16</td>\n",
       "      <td>Não</td>\n",
       "      <td>Não</td>\n",
       "      <td>Negar</td>\n",
       "      <td>Negar</td>\n",
       "    </tr>\n",
       "    <tr>\n",
       "      <th>7610</th>\n",
       "      <td>4766</td>\n",
       "      <td>59</td>\n",
       "      <td>336.676710</td>\n",
       "      <td>21.07</td>\n",
       "      <td>40289.684120</td>\n",
       "      <td>57.668059</td>\n",
       "      <td>34.809239</td>\n",
       "      <td>4</td>\n",
       "      <td>4</td>\n",
       "      <td>4</td>\n",
       "      <td>30</td>\n",
       "      <td>8</td>\n",
       "      <td>4</td>\n",
       "      <td>7</td>\n",
       "      <td>Não</td>\n",
       "      <td>Não</td>\n",
       "      <td>Negar</td>\n",
       "      <td>Negar</td>\n",
       "    </tr>\n",
       "  </tbody>\n",
       "</table>\n",
       "</div>"
      ],
      "text/plain": [
       "      id_cliente  idade  saldo_atual  divida_atual   renda_anual  \\\n",
       "6272        8047     57   422.697187       1063.18  42593.693030   \n",
       "5475         596     49   368.731345        939.20  29024.931285   \n",
       "557         1202     42   266.090911       1332.45  11202.535825   \n",
       "3411        6147     31   361.887885       1406.53  72577.575000   \n",
       "5305        6344     52   297.462809       1372.83  51221.145500   \n",
       "3875       10619     21   190.676829       2514.62  27461.601370   \n",
       "4778        6384     34   639.146630        675.51  66947.132000   \n",
       "8782        9046     25   496.292058       1369.02  90537.638880   \n",
       "3036        6928     35   389.594288       2482.73  42827.105300   \n",
       "7610        4766     59   336.676710         21.07  40289.684120   \n",
       "\n",
       "      valor_em_investimentos  taxa_utilizacao_credito  num_emprestimos  \\\n",
       "6272               96.372156                40.725937                1   \n",
       "5475               55.447013                36.614841                3   \n",
       "557                41.734346                38.448629                2   \n",
       "3411              124.367443                40.122092                5   \n",
       "5305              365.480357                40.277766                0   \n",
       "3875              185.101395                25.764323                5   \n",
       "4778               70.576037                37.008729                0   \n",
       "8782              348.918938                29.297803                2   \n",
       "3036               68.008761                35.561240                5   \n",
       "7610               57.668059                34.809239                4   \n",
       "\n",
       "      num_contas_bancarias  num_cartoes_credito  dias_atraso_dt_venc  \\\n",
       "6272                     6                    3                   27   \n",
       "5475                     5                    3                   25   \n",
       "557                      7                    4                   30   \n",
       "3411                     8                    3                   29   \n",
       "5305                     7                    3                   10   \n",
       "3875                     9                   10                   60   \n",
       "4778                     5                    3                   13   \n",
       "8782                     1                    4                    9   \n",
       "3036                    10                    8                   25   \n",
       "7610                     4                    4                   30   \n",
       "\n",
       "      num_pgtos_atrasados  num_consultas_credito  taxa_juros investe_exterior  \\\n",
       "6272                   10                      1          11              Não   \n",
       "5475                   14                      4           8              Sim   \n",
       "557                    12                      6          18              Não   \n",
       "3411                   13                     11          18              Não   \n",
       "5305                   14                      3          15              Não   \n",
       "3875                   22                      9          28              Não   \n",
       "4778                   18                      4           5              Não   \n",
       "8782                    2                      1          10              Não   \n",
       "3036                   19                      7          16              Não   \n",
       "7610                    8                      4           7              Não   \n",
       "\n",
       "     pessoa_polit_exp limite_adicional classificacao  \n",
       "6272              Não            Negar         Negar  \n",
       "5475              Não            Negar         Negar  \n",
       "557               Não            Negar         Negar  \n",
       "3411              Não            Negar         Negar  \n",
       "5305              Não            Negar         Negar  \n",
       "3875              Não            Negar         Negar  \n",
       "4778              Não            Negar         Negar  \n",
       "8782              Não            Negar         Negar  \n",
       "3036              Não            Negar         Negar  \n",
       "7610              Não            Negar         Negar  "
      ]
     },
     "execution_count": 187,
     "metadata": {},
     "output_type": "execute_result"
    }
   ],
   "source": [
    "x_train = df.loc[:, features]\n",
    "y_train = df.loc[:, label].values.ravel()\n",
    "\n",
    "\n",
    "k = 21\n",
    "\n",
    "# Treinamento do algoritmo KNN\n",
    "knn_classifier = KNeighborsClassifier( n_neighbors = k )\n",
    "knn_classifier.fit( x_train, y_train )\n",
    "\n",
    "# Previsão das observações\n",
    "y_pred = knn_classifier.predict( x_train )\n",
    "\n",
    "# Comparação do Previsto com o Realizado\n",
    "#df1 = df.loc[:, ['id_cliente', 'limite_adicional']]\n",
    "\n",
    "df_results = df.copy()\n",
    "df_results['classificacao'] = y_pred\n",
    "df_results.sample( 10)"
   ]
  },
  {
   "cell_type": "code",
   "execution_count": 188,
   "id": "2972d319",
   "metadata": {
    "ExecuteTime": {
     "end_time": "2023-01-27T16:11:54.235621Z",
     "start_time": "2023-01-27T16:11:54.142678Z"
    }
   },
   "outputs": [],
   "source": [
    "df_results['acertos'] =  ( df_results.loc[:, ['id_cliente', 'limite_adicional', 'classificacao']].apply(\n",
    "lambda x: 1 if x['limite_adicional'] == x['classificacao'] else 0, axis=1 ) )"
   ]
  },
  {
   "cell_type": "markdown",
   "id": "a101d8e1",
   "metadata": {
    "ExecuteTime": {
     "end_time": "2023-01-27T14:36:17.516188Z",
     "start_time": "2023-01-27T14:36:17.511423Z"
    }
   },
   "source": [
    "# 4.0  Performance"
   ]
  },
  {
   "cell_type": "markdown",
   "id": "202d9222",
   "metadata": {},
   "source": [
    "## 4.1 Matriz de confusao"
   ]
  },
  {
   "cell_type": "code",
   "execution_count": 189,
   "id": "af16d9ee",
   "metadata": {
    "ExecuteTime": {
     "end_time": "2023-01-27T16:11:54.848197Z",
     "start_time": "2023-01-27T16:11:54.814869Z"
    }
   },
   "outputs": [
    {
     "data": {
      "text/plain": [
       "array([[ 146, 1359],\n",
       "       [ 102, 7893]])"
      ]
     },
     "execution_count": 189,
     "metadata": {},
     "output_type": "execute_result"
    }
   ],
   "source": [
    "mt.confusion_matrix( y_train, y_pred )"
   ]
  },
  {
   "cell_type": "code",
   "execution_count": 190,
   "id": "cd2aa36d",
   "metadata": {
    "ExecuteTime": {
     "end_time": "2023-01-27T16:11:55.032144Z",
     "start_time": "2023-01-27T16:11:55.028049Z"
    }
   },
   "outputs": [
    {
     "name": "stdout",
     "output_type": "stream",
     "text": [
      "Matriz de Confusao: 85.91\n"
     ]
    }
   ],
   "source": [
    "print( 'Matriz de Confusao: {:.2f}'.format(( 369 + 7792 ) / (9500)* 100 ))"
   ]
  },
  {
   "cell_type": "markdown",
   "id": "449e64e5",
   "metadata": {
    "ExecuteTime": {
     "end_time": "2023-01-27T14:38:09.984092Z",
     "start_time": "2023-01-27T14:38:09.981236Z"
    }
   },
   "source": [
    "## 4.2 Acuracia"
   ]
  },
  {
   "cell_type": "code",
   "execution_count": 191,
   "id": "9a133a0d",
   "metadata": {
    "ExecuteTime": {
     "end_time": "2023-01-27T16:11:55.470283Z",
     "start_time": "2023-01-27T16:11:55.464994Z"
    }
   },
   "outputs": [
    {
     "data": {
      "text/plain": [
       "8039"
      ]
     },
     "execution_count": 191,
     "metadata": {},
     "output_type": "execute_result"
    }
   ],
   "source": [
    "df_results['acertos'].sum()"
   ]
  },
  {
   "cell_type": "code",
   "execution_count": 192,
   "id": "c13b86b7",
   "metadata": {
    "ExecuteTime": {
     "end_time": "2023-01-27T16:11:55.687333Z",
     "start_time": "2023-01-27T16:11:55.682813Z"
    }
   },
   "outputs": [
    {
     "data": {
      "text/plain": [
       "(9500, 19)"
      ]
     },
     "execution_count": 192,
     "metadata": {},
     "output_type": "execute_result"
    }
   ],
   "source": [
    "df_results.shape"
   ]
  },
  {
   "cell_type": "code",
   "execution_count": 193,
   "id": "783ceb21",
   "metadata": {
    "ExecuteTime": {
     "end_time": "2023-01-27T16:11:55.907565Z",
     "start_time": "2023-01-27T16:11:55.903961Z"
    }
   },
   "outputs": [
    {
     "name": "stdout",
     "output_type": "stream",
     "text": [
      "Acuracia: 85.91\n"
     ]
    }
   ],
   "source": [
    "print( 'Acuracia: {:.2f}'.format(( 8161 / 9500 ) * 100 ))"
   ]
  },
  {
   "cell_type": "code",
   "execution_count": 194,
   "id": "bf5dfda4",
   "metadata": {
    "ExecuteTime": {
     "end_time": "2023-01-27T16:11:56.132039Z",
     "start_time": "2023-01-27T16:11:56.113677Z"
    }
   },
   "outputs": [
    {
     "data": {
      "text/plain": [
       "0.8462105263157895"
      ]
     },
     "execution_count": 194,
     "metadata": {},
     "output_type": "execute_result"
    }
   ],
   "source": [
    "mt.accuracy_score( y_train, y_pred)"
   ]
  },
  {
   "cell_type": "markdown",
   "id": "1e433e4b",
   "metadata": {},
   "source": [
    "- k3 = 88%\n",
    "- k5 = 86%\n",
    "- k7 = 85%\n",
    "- k9 = 85% \n",
    "- k11 = 85%\n",
    "- k13 = 84%\n",
    "- k15 = 84%\n",
    "- k17 = 84%\n",
    "- k19 = 84%\n",
    "- k21 = 84%\n"
   ]
  },
  {
   "cell_type": "markdown",
   "id": "6e7620c6",
   "metadata": {},
   "source": [
    "## 4.3 Precisao"
   ]
  },
  {
   "cell_type": "code",
   "execution_count": 184,
   "id": "f1f20e6f",
   "metadata": {
    "ExecuteTime": {
     "end_time": "2023-01-27T16:11:28.893852Z",
     "start_time": "2023-01-27T16:11:28.825718Z"
    }
   },
   "outputs": [
    {
     "data": {
      "text/plain": [
       "0.6111111111111112"
      ]
     },
     "execution_count": 184,
     "metadata": {},
     "output_type": "execute_result"
    }
   ],
   "source": [
    "\n",
    "mt.precision_score( y_train, y_pred, average=\"binary\", pos_label='Conceder' )\n"
   ]
  },
  {
   "cell_type": "code",
   "execution_count": 185,
   "id": "4b276461",
   "metadata": {
    "ExecuteTime": {
     "end_time": "2023-01-27T16:11:30.083521Z",
     "start_time": "2023-01-27T16:11:30.080695Z"
    }
   },
   "outputs": [],
   "source": [
    "## 4.4 Recall"
   ]
  },
  {
   "cell_type": "code",
   "execution_count": 186,
   "id": "e9d8f2b1",
   "metadata": {
    "ExecuteTime": {
     "end_time": "2023-01-27T16:11:30.411455Z",
     "start_time": "2023-01-27T16:11:30.342863Z"
    }
   },
   "outputs": [
    {
     "data": {
      "text/plain": [
       "0.10963455149501661"
      ]
     },
     "execution_count": 186,
     "metadata": {},
     "output_type": "execute_result"
    }
   ],
   "source": [
    "\n",
    "mt.recall_score( y_train, y_pred, average='binary', pos_label='Conceder' )"
   ]
  },
  {
   "cell_type": "code",
   "execution_count": null,
   "id": "1b6246be",
   "metadata": {},
   "outputs": [],
   "source": []
  },
  {
   "cell_type": "code",
   "execution_count": null,
   "id": "b5fe9f11",
   "metadata": {},
   "outputs": [],
   "source": []
  }
 ],
 "metadata": {
  "kernelspec": {
   "display_name": "Python 3 (ipykernel)",
   "language": "python",
   "name": "python3"
  },
  "language_info": {
   "codemirror_mode": {
    "name": "ipython",
    "version": 3
   },
   "file_extension": ".py",
   "mimetype": "text/x-python",
   "name": "python",
   "nbconvert_exporter": "python",
   "pygments_lexer": "ipython3",
   "version": "3.9.16"
  }
 },
 "nbformat": 4,
 "nbformat_minor": 5
}
