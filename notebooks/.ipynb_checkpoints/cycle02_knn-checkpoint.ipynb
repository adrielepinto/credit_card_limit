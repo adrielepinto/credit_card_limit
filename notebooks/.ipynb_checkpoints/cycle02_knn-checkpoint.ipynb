{
 "cells": [
  {
   "cell_type": "markdown",
   "id": "aa89c631",
   "metadata": {},
   "source": [
    "# Cycle 02 - Supervised Learning - Classification"
   ]
  },
  {
   "cell_type": "markdown",
   "id": "4a545a4a",
   "metadata": {},
   "source": [
    "## 1.0 Imports"
   ]
  },
  {
   "cell_type": "code",
   "execution_count": 14,
   "id": "23323d15",
   "metadata": {
    "ExecuteTime": {
     "end_time": "2023-01-22T14:06:52.126146Z",
     "start_time": "2023-01-22T14:06:30.256625Z"
    }
   },
   "outputs": [],
   "source": [
    "import pandas as pd\n",
    "from sklearn.neighbors import KNeighborsClassifier"
   ]
  },
  {
   "cell_type": "markdown",
   "id": "0c113eb8",
   "metadata": {
    "ExecuteTime": {
     "end_time": "2023-01-22T13:56:14.975493Z",
     "start_time": "2023-01-22T13:56:14.972575Z"
    }
   },
   "source": [
    "## 1.1 Load Datase"
   ]
  },
  {
   "cell_type": "code",
   "execution_count": 6,
   "id": "8013fd5a",
   "metadata": {
    "ExecuteTime": {
     "end_time": "2023-01-22T13:59:45.140260Z",
     "start_time": "2023-01-22T13:59:45.110087Z"
    }
   },
   "outputs": [],
   "source": [
    "df = pd.read_csv( '/Users/adriele/Documents/repos/fund_ml/dataset/train.csv')"
   ]
  },
  {
   "cell_type": "markdown",
   "id": "c692887e",
   "metadata": {
    "ExecuteTime": {
     "end_time": "2023-01-22T13:59:35.190234Z",
     "start_time": "2023-01-22T13:59:35.160825Z"
    }
   },
   "source": [
    "## 2.0  Features Selection\n",
    "                  "
   ]
  },
  {
   "cell_type": "code",
   "execution_count": 8,
   "id": "2be1ae81",
   "metadata": {
    "ExecuteTime": {
     "end_time": "2023-01-22T14:01:42.455034Z",
     "start_time": "2023-01-22T14:01:42.450367Z"
    }
   },
   "outputs": [],
   "source": [
    "features = ['idade', 'saldo_atual', 'divida_atual', 'renda_anual', 'valor_em_investimentos',\n",
    "                              'taxa_utilizacao_credito', 'num_emprestimos', 'num_contas_bancarias', 'num_cartoes_credito',\n",
    "                              'dias_atraso_dt_venc', 'num_pgtos_atrasados', 'num_consultas_credito', 'taxa_juros']\n",
    "\n",
    "label = ['limite_adicional']"
   ]
  },
  {
   "cell_type": "markdown",
   "id": "bd208acf",
   "metadata": {},
   "source": [
    "## 3.0 Data Preparation for train"
   ]
  },
  {
   "cell_type": "code",
   "execution_count": 15,
   "id": "d429fef0",
   "metadata": {
    "ExecuteTime": {
     "end_time": "2023-01-22T14:06:59.209493Z",
     "start_time": "2023-01-22T14:06:58.727678Z"
    }
   },
   "outputs": [],
   "source": [
    "x_train = df.loc[:, features]\n",
    "y_train = df.loc[:, label].values.ravel()\n",
    "\n",
    "\n",
    "# Treinamento do algoritmo KNN\n",
    "knn_classifier = KNeighborsClassifier( n_neighbors = 8 )\n",
    "knn_classifier.fit( x_train, y_train )\n",
    "\n",
    "# Previsão das observações\n",
    "y_pred = knn_classifier.predict( x_train )\n",
    "\n",
    "# Comparação do Previsto com o Realizado\n",
    "df1 = df.loc[:, ['id_cliente', 'limite_adicional']]\n",
    "df1['predicted'] = y_pred"
   ]
  },
  {
   "cell_type": "code",
   "execution_count": 18,
   "id": "8520991c",
   "metadata": {
    "ExecuteTime": {
     "end_time": "2023-01-22T14:17:56.772680Z",
     "start_time": "2023-01-22T14:17:56.759001Z"
    }
   },
   "outputs": [
    {
     "data": {
      "text/html": [
       "<div>\n",
       "<style scoped>\n",
       "    .dataframe tbody tr th:only-of-type {\n",
       "        vertical-align: middle;\n",
       "    }\n",
       "\n",
       "    .dataframe tbody tr th {\n",
       "        vertical-align: top;\n",
       "    }\n",
       "\n",
       "    .dataframe thead th {\n",
       "        text-align: right;\n",
       "    }\n",
       "</style>\n",
       "<table border=\"1\" class=\"dataframe\">\n",
       "  <thead>\n",
       "    <tr style=\"text-align: right;\">\n",
       "      <th></th>\n",
       "      <th>id_cliente</th>\n",
       "      <th>limite_adicional</th>\n",
       "      <th>predicted</th>\n",
       "    </tr>\n",
       "  </thead>\n",
       "  <tbody>\n",
       "    <tr>\n",
       "      <th>6598</th>\n",
       "      <td>422</td>\n",
       "      <td>Negar</td>\n",
       "      <td>Negar</td>\n",
       "    </tr>\n",
       "    <tr>\n",
       "      <th>1024</th>\n",
       "      <td>10845</td>\n",
       "      <td>Negar</td>\n",
       "      <td>Negar</td>\n",
       "    </tr>\n",
       "    <tr>\n",
       "      <th>55</th>\n",
       "      <td>12106</td>\n",
       "      <td>Negar</td>\n",
       "      <td>Negar</td>\n",
       "    </tr>\n",
       "    <tr>\n",
       "      <th>9357</th>\n",
       "      <td>5477</td>\n",
       "      <td>Negar</td>\n",
       "      <td>Negar</td>\n",
       "    </tr>\n",
       "    <tr>\n",
       "      <th>2157</th>\n",
       "      <td>12237</td>\n",
       "      <td>Negar</td>\n",
       "      <td>Negar</td>\n",
       "    </tr>\n",
       "    <tr>\n",
       "      <th>2581</th>\n",
       "      <td>10420</td>\n",
       "      <td>Negar</td>\n",
       "      <td>Conceder</td>\n",
       "    </tr>\n",
       "    <tr>\n",
       "      <th>2822</th>\n",
       "      <td>10261</td>\n",
       "      <td>Negar</td>\n",
       "      <td>Negar</td>\n",
       "    </tr>\n",
       "    <tr>\n",
       "      <th>4220</th>\n",
       "      <td>11124</td>\n",
       "      <td>Negar</td>\n",
       "      <td>Negar</td>\n",
       "    </tr>\n",
       "    <tr>\n",
       "      <th>2790</th>\n",
       "      <td>8769</td>\n",
       "      <td>Conceder</td>\n",
       "      <td>Negar</td>\n",
       "    </tr>\n",
       "    <tr>\n",
       "      <th>7185</th>\n",
       "      <td>8143</td>\n",
       "      <td>Negar</td>\n",
       "      <td>Negar</td>\n",
       "    </tr>\n",
       "  </tbody>\n",
       "</table>\n",
       "</div>"
      ],
      "text/plain": [
       "      id_cliente limite_adicional predicted\n",
       "6598         422            Negar     Negar\n",
       "1024       10845            Negar     Negar\n",
       "55         12106            Negar     Negar\n",
       "9357        5477            Negar     Negar\n",
       "2157       12237            Negar     Negar\n",
       "2581       10420            Negar  Conceder\n",
       "2822       10261            Negar     Negar\n",
       "4220       11124            Negar     Negar\n",
       "2790        8769         Conceder     Negar\n",
       "7185        8143            Negar     Negar"
      ]
     },
     "execution_count": 18,
     "metadata": {},
     "output_type": "execute_result"
    }
   ],
   "source": [
    "df1.sample(10)"
   ]
  },
  {
   "cell_type": "code",
   "execution_count": null,
   "id": "2972d319",
   "metadata": {},
   "outputs": [],
   "source": []
  }
 ],
 "metadata": {
  "kernelspec": {
   "display_name": "Python 3 (ipykernel)",
   "language": "python",
   "name": "python3"
  },
  "language_info": {
   "codemirror_mode": {
    "name": "ipython",
    "version": 3
   },
   "file_extension": ".py",
   "mimetype": "text/x-python",
   "name": "python",
   "nbconvert_exporter": "python",
   "pygments_lexer": "ipython3",
   "version": "3.9.16"
  }
 },
 "nbformat": 4,
 "nbformat_minor": 5
}
